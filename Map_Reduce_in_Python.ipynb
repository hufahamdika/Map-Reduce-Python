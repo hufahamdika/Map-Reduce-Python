{
  "cells": [
    {
      "attachments": {},
      "cell_type": "markdown",
      "metadata": {
        "id": "aD-VvCfFLK0z"
      },
      "source": [
        "Reference:\n",
        "- https://icaml.org/canon/basics/mapreduce_wordcout_python.html"
      ]
    },
    {
      "cell_type": "code",
      "execution_count": 65,
      "metadata": {
        "id": "L5YB1wY3K6se"
      },
      "outputs": [],
      "source": [
        "# Import the libraries\n",
        "from itertools import groupby;\n",
        "import wget"
      ]
    },
    {
      "cell_type": "code",
      "execution_count": 66,
      "metadata": {
        "id": "l2B2MEhTLZdW"
      },
      "outputs": [],
      "source": [
        "# Create a map function\n",
        "def mapfunc(w):\n",
        "    # Remove all puncuation and spaces.  \n",
        "    cleanword = ''.join([i for i in w if i.isalpha()])\n",
        "    return [cleanword, 1];"
      ]
    },
    {
      "cell_type": "code",
      "execution_count": 67,
      "metadata": {
        "id": "tP70XNBJLho8"
      },
      "outputs": [],
      "source": [
        "# Create a reduce function\n",
        "def reducefunc(key, values):\n",
        "    counts = [x[1] for x in values];\n",
        "    return [key, sum(counts)];"
      ]
    },
    {
      "cell_type": "code",
      "execution_count": 68,
      "metadata": {
        "colab": {
          "base_uri": "https://localhost:8080/"
        },
        "id": "p4jw8vfQLv4_",
        "outputId": "8f1995dc-26a6-44ed-edae-0201ba8c24b8"
      },
      "outputs": [],
      "source": [
        "# Download the data\n",
        "response = wget.download(\"https://www.gutenberg.org/cache/epub/1777/pg1777.txt\", \"romeojuliet.txt\")"
      ]
    },
    {
      "cell_type": "code",
      "execution_count": 69,
      "metadata": {
        "id": "FZavKWWGMc7y"
      },
      "outputs": [],
      "source": [
        "# Split the document into single word\n",
        "with open(\"romeojuliet.txt\") as f:\n",
        "    words=[word for line in f for word in line.split()]"
      ]
    },
    {
      "cell_type": "code",
      "execution_count": 70,
      "metadata": {
        "colab": {
          "base_uri": "https://localhost:8080/"
        },
        "id": "2cxDzqVtMrIv",
        "outputId": "2da5e7ea-cda2-41b4-a0a6-b94784682b00"
      },
      "outputs": [
        {
          "name": "stdout",
          "output_type": "stream",
          "text": [
            "['ï»¿', '*******************************************************************', 'THIS', 'EBOOK', 'WAS', 'ONE', 'OF', 'PROJECT', \"GUTENBERG'S\", 'EARLY', 'FILES', 'PRODUCED', 'AT', 'A', 'TIME', 'WHEN', 'PROOFING', 'METHODS', 'AND', 'TOOLS', 'WERE', 'NOT', 'WELL', 'DEVELOPED.', 'THERE', 'IS', 'AN', 'IMPROVED', 'EDITION', 'OF', 'THIS', 'TITLE', 'WHICH', 'MAY', 'BE', 'VIEWED', 'AS', 'EBOOK', '(#1513)', 'at', 'https://www.gutenberg.org/ebooks/1513', '*******************************************************************', 'This', 'Etext', 'file', 'is', 'presented', 'by', 'Project', 'Gutenberg,']\n"
          ]
        }
      ],
      "source": [
        "# Test if it works properly\n",
        "print(words[:50])"
      ]
    },
    {
      "cell_type": "code",
      "execution_count": 71,
      "metadata": {},
      "outputs": [
        {
          "name": "stdout",
          "output_type": "stream",
          "text": [
            "['BY', 1]\n"
          ]
        }
      ],
      "source": [
        "# Test mapfunc function\n",
        "print(mapfunc(words[100]))"
      ]
    },
    {
      "cell_type": "code",
      "execution_count": 72,
      "metadata": {
        "id": "MHs11CqRMscR"
      },
      "outputs": [],
      "source": [
        "# Assign mapfunc function to the data\n",
        "map_result = list(map(mapfunc, words))"
      ]
    },
    {
      "cell_type": "code",
      "execution_count": 73,
      "metadata": {},
      "outputs": [
        {
          "name": "stdout",
          "output_type": "stream",
          "text": [
            "[['ï', 1], ['', 1], ['THIS', 1], ['EBOOK', 1], ['WAS', 1], ['ONE', 1], ['OF', 1], ['PROJECT', 1], ['GUTENBERGS', 1], ['EARLY', 1], ['FILES', 1], ['PRODUCED', 1], ['AT', 1], ['A', 1], ['TIME', 1], ['WHEN', 1], ['PROOFING', 1], ['METHODS', 1], ['AND', 1], ['TOOLS', 1], ['WERE', 1], ['NOT', 1], ['WELL', 1], ['DEVELOPED', 1], ['THERE', 1], ['IS', 1], ['AN', 1], ['IMPROVED', 1], ['EDITION', 1], ['OF', 1], ['THIS', 1], ['TITLE', 1], ['WHICH', 1], ['MAY', 1], ['BE', 1], ['VIEWED', 1], ['AS', 1], ['EBOOK', 1], ['', 1], ['at', 1], ['httpswwwgutenbergorgebooks', 1], ['', 1], ['This', 1], ['Etext', 1], ['file', 1], ['is', 1], ['presented', 1], ['by', 1], ['Project', 1], ['Gutenberg', 1]]\n"
          ]
        }
      ],
      "source": [
        "# Test the result\n",
        "print(map_result[:50])"
      ]
    },
    {
      "cell_type": "code",
      "execution_count": 74,
      "metadata": {
        "id": "575TDKAhNCbn"
      },
      "outputs": [],
      "source": [
        "# Sort the data\n",
        "map_result_sorted = sorted (map_result, key = lambda x: x[0])"
      ]
    },
    {
      "cell_type": "code",
      "execution_count": 75,
      "metadata": {
        "colab": {
          "base_uri": "https://localhost:8080/"
        },
        "id": "RCU92w6_ZcKF",
        "outputId": "7425bf72-a038-4bfd-96a7-e32fef2bd6a1"
      },
      "outputs": [
        {
          "name": "stdout",
          "output_type": "stream",
          "text": [
            "[['', 1], ['', 1], ['', 1], ['', 1], ['', 1], ['', 1], ['', 1], ['', 1], ['', 1], ['', 1], ['', 1], ['', 1], ['', 1], ['', 1], ['', 1], ['', 1], ['', 1], ['', 1], ['', 1], ['', 1], ['', 1], ['', 1], ['', 1], ['', 1], ['', 1], ['', 1], ['', 1], ['', 1], ['', 1], ['', 1], ['', 1], ['', 1], ['', 1], ['', 1], ['', 1], ['', 1], ['', 1], ['', 1], ['', 1], ['', 1], ['', 1], ['', 1], ['', 1], ['', 1], ['', 1], ['', 1], ['', 1], ['', 1], ['', 1], ['', 1]]\n"
          ]
        }
      ],
      "source": [
        "# Test the operation\n",
        "print(map_result_sorted[:50])"
      ]
    },
    {
      "cell_type": "code",
      "execution_count": 76,
      "metadata": {
        "id": "cyu9JgjZNkl2"
      },
      "outputs": [],
      "source": [
        "# Apply the reduce function\n",
        "reduce_result = [];\n",
        "for k, g in groupby(map_result_sorted, key = lambda x: x[0]):\n",
        "    reduce_result.append(reducefunc(k, list(g)))"
      ]
    },
    {
      "cell_type": "code",
      "execution_count": 77,
      "metadata": {
        "colab": {
          "base_uri": "https://localhost:8080/"
        },
        "id": "jyMOgWFEN45l",
        "outputId": "319f09b0-abec-4b96-8f07-107c1f227295"
      },
      "outputs": [
        {
          "name": "stdout",
          "output_type": "stream",
          "text": [
            "[['', 89], ['A', 71], ['ACCESS', 1], ['ACT', 5], ['ALLOWED', 1], ['AN', 1], ['AND', 31], ['ANY', 12], ['ANYONE', 1], ['ARE', 22], ['AS', 11], ['ASCII', 2], ['ASIS', 1], ['AT', 1], ['AWAY', 1], ['Abate', 1], ['Above', 1], ['Abr', 5], ['Abram', 2], ['Accursd', 1], ['Acquaint', 1], ['Adding', 1], ['Adieu', 1], ['Adversitys', 1], ['Affection', 1], ['Affliction', 1], ['Afore', 1], ['After', 1], ['Against', 1], ['Ah', 19], ['Alack', 7], ['Alas', 5], ['Alike', 1], ['Alive', 1], ['All', 11], ['Alla', 1], ['Although', 1], ['Am', 3], ['Amen', 2], ['Among', 2], ['An', 23], ['Ancient', 1], ['And', 229], ['Angelica', 1], ['Anon', 5], ['Anselmo', 1], ['Answer', 2], ['Anthony', 1], ['Any', 1], ['Apoth', 4], ['Apothecary', 2], ['Appear', 1], ['April', 1], ['Are', 3], ['Arise', 2], ['Arms', 1], ['Art', 4], ['As', 35], ['Ascend', 1], ['Ask', 1], ['Association', 1], ['At', 8], ['Athwart', 1], ['Attendants', 2], ['Attorney', 1], ['Auroras', 1], ['Away', 5], ['Ay', 24], ['B', 3], ['BE', 11], ['BREACH', 1], ['BUT', 3], ['BY', 27], ['Back', 1], ['Bal', 9], ['Balthasar', 7], ['Banishd', 1], ['Be', 13], ['Bear', 1], ['Bearing', 1], ['Beats', 1], ['Beautiful', 1], ['Beauty', 1], ['Beautys', 1], ['Because', 3], ['Beg', 1], ['Begot', 1], ['Beguild', 1], ['Being', 14], ['Believe', 1], ['Belonging', 1], ['Ben', 64], ['Benedicite', 1], ['Benvolio', 17], ['Beshrew', 2], ['Bethink', 1], ['Betrothd', 1], ['Bid', 2], ['Black', 1], ['Blind', 1], ['Bliss', 1], ['Blisterd', 1], ['Blubbring', 1], ['Bondage', 1], ['Borrow', 1], ['Both', 5], ['Box', 2], ['Boy', 5], ['Brags', 1], ['Brief', 1], ['Bring', 1], ['Brother', 1], ['But', 83], ['Buy', 1], ['By', 32], ['Byandby', 2], ['Byr', 1], ['C', 1], ['CARNEGIE', 8], ['CDROMS', 1], ['CHARGES', 11], ['CMU', 1], ['COMMERCIAL', 9], ['COMMERCIALLY', 9], ['COMPLETE', 11], ['CONDITIONS', 1], ['CONSEQUENTIAL', 1], ['CONTRACT', 1], ['COPIES', 18], ['COPYRIGHT', 9], ['Call', 6], ['Calling', 1], ['Came', 4], ['Can', 7], ['Cankred', 1], ['Cap', 53], ['Capels', 2], ['Capulet', 33], ['Capulets', 18], ['Care', 1], ['Carnegie', 2], ['Cast', 2], ['Catling', 1], ['Cats', 2], ['Central', 1], ['Champaign', 2], ['Charles', 1], ['Checkring', 1], ['Cheerly', 2], ['Chief', 6], ['Chor', 2], ['Chorus', 3], ['Christian', 1], ['Church', 4], ['Citizen', 2], ['Citizens', 4], ['Cleopatra', 1], ['Climbs', 1], ['Clown', 1], ['Clubs', 1], ['Cold', 1], ['Come', 38], ['Comfort', 1], ['Commend', 4], ['Compare', 1], ['Complete', 4], ['Computers', 1], ['Conceit', 1], ['Condemned', 1], ['Confusions', 1], ['Consort', 1], ['Contempt', 1], ['Content', 1], ['Cophetua', 1], ['Could', 5], ['Count', 1], ['County', 19], ['Countys', 1], ['Couple', 1], ['Courage', 1], ['Cry', 1], ['Culling', 1], ['Cupid', 3], ['Cupids', 2], ['Cuts', 1], ['Cynthias', 1], ['DAMAGES', 3], ['DEVELOPED', 1], ['DISCLAIMER', 1], ['DISTRIBUTE', 1], ['DISTRIBUTED', 17], ['DISTRIBUTION', 9], ['DOMAIN', 1], ['DONT', 1], ['DOWNLOAD', 9], ['Day', 1], ['Dead', 1], ['Dear', 1], ['Death', 10], ['Deaths', 1]]\n"
          ]
        }
      ],
      "source": [
        "# See the result\n",
        "print(reduce_result[:200])"
      ]
    }
  ],
  "metadata": {
    "colab": {
      "provenance": []
    },
    "kernelspec": {
      "display_name": "Python 3",
      "language": "python",
      "name": "python3"
    },
    "language_info": {
      "codemirror_mode": {
        "name": "ipython",
        "version": 3
      },
      "file_extension": ".py",
      "mimetype": "text/x-python",
      "name": "python",
      "nbconvert_exporter": "python",
      "pygments_lexer": "ipython3",
      "version": "3.10.6"
    },
    "vscode": {
      "interpreter": {
        "hash": "b8c2b01a1ced4c27f6d85f6fad0b605f4f682a9972d45416be50feb05b637abd"
      }
    }
  },
  "nbformat": 4,
  "nbformat_minor": 0
}
